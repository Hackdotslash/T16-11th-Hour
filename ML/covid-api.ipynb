{
 "cells": [
  {
   "cell_type": "code",
   "execution_count": 1,
   "id": "expanded-stephen",
   "metadata": {},
   "outputs": [],
   "source": [
    "from flask import Flask, request"
   ]
  },
  {
   "cell_type": "code",
   "execution_count": 8,
   "id": "curious-telling",
   "metadata": {},
   "outputs": [],
   "source": [
    "import urllib\n",
    "import json"
   ]
  },
  {
   "cell_type": "code",
   "execution_count": 4,
   "id": "biological-bottom",
   "metadata": {},
   "outputs": [],
   "source": [
    "url = \"https://api.covid19india.org/v4/data.json\""
   ]
  },
  {
   "cell_type": "code",
   "execution_count": 6,
   "id": "palestinian-novel",
   "metadata": {},
   "outputs": [],
   "source": [
    "response = urllib.request.urlopen(url)"
   ]
  },
  {
   "cell_type": "code",
   "execution_count": 9,
   "id": "breeding-transsexual",
   "metadata": {},
   "outputs": [],
   "source": [
    "data = json.loads(response.read())"
   ]
  },
  {
   "cell_type": "code",
   "execution_count": 30,
   "id": "convertible-answer",
   "metadata": {},
   "outputs": [
    {
     "data": {
      "text/plain": [
       "{'confirmed': 49, 'recovered': 62}"
      ]
     },
     "execution_count": 30,
     "metadata": {},
     "output_type": "execute_result"
    }
   ],
   "source": [
    "data['GJ']['districts']['Surat']['delta']"
   ]
  },
  {
   "cell_type": "code",
   "execution_count": 90,
   "id": "christian-mountain",
   "metadata": {},
   "outputs": [],
   "source": [
    "def covid_parameters(state, city):\n",
    "    temp = data[state]['districts'][city]\n",
    "    \n",
    "    try:\n",
    "        active = temp['total']['confirmed'] - temp['total']['recovered']\n",
    "        population = temp['meta']['population']\n",
    "        daily_cases = temp['delta']['confirmed']\n",
    "        daily_recovered = temp['delta']['recovered']\n",
    "        active_ratio = (active/population)*100\n",
    "        daily_cases_ratio = ((daily_cases - daily_recovered)/population)*1000\n",
    "    except:\n",
    "        active = 0\n",
    "        population = 0\n",
    "        daily_cases = 0\n",
    "        daily_recovered = 0\n",
    "        active_ratio = 0\n",
    "        daily_cases_ratio = 0\n",
    "    \n",
    "    results = {\n",
    "        'active' : active,\n",
    "        'population' : population,\n",
    "        'daily_cases' : daily_cases,\n",
    "        'daily_recovered' : daily_recovered,\n",
    "        'active_ratio' : active_ratio,\n",
    "        'daily_cases_ratio' : daily_cases_ratio,\n",
    "    }\n",
    "    \n",
    "    return results"
   ]
  },
  {
   "cell_type": "code",
   "execution_count": 91,
   "id": "expired-vegetarian",
   "metadata": {},
   "outputs": [],
   "source": [
    "def safety_score(results):\n",
    "    active_score = 0\n",
    "    if (results['active_ratio'] < 0.25):\n",
    "        active_score = results['active_ratio']*20\n",
    "    elif (results['active_ratio'] < 0.5):\n",
    "        active_score = 5\n",
    "    elif (results['active_ratio'] < 1):\n",
    "        active_score = 10\n",
    "    elif (results['active_ratio'] < 2):\n",
    "        active_score = 50\n",
    "    elif (results['active_ratio'] < 4):\n",
    "        active_score = 80\n",
    "    else:\n",
    "        active_score = 100\n",
    "    daily_score = 0\n",
    "    if (results['daily_cases_ratio'] < 0.25):\n",
    "        daily_score = results['daily_cases_ratio']*20\n",
    "    elif (results['daily_cases_ratio'] < 0.5):\n",
    "        daily_score = 5\n",
    "    elif (results['daily_cases_ratio'] < 1):\n",
    "        daily_score = 10\n",
    "    elif (results['daily_cases_ratio'] < 2):\n",
    "        daily_score = 50\n",
    "    elif (results['daily_cases_ratio'] < 4):\n",
    "        daily_score = 80\n",
    "    else:\n",
    "        daily_score = 100\n",
    "        \n",
    "    return 100 - (active_score + daily_score)/2"
   ]
  },
  {
   "cell_type": "code",
   "execution_count": 94,
   "id": "entire-street",
   "metadata": {},
   "outputs": [
    {
     "data": {
      "text/plain": [
       "99.98747062002776"
      ]
     },
     "execution_count": 94,
     "metadata": {},
     "output_type": "execute_result"
    }
   ],
   "source": [
    "# safety_score(covid_parameters('GJ', 'Surendranagar'))"
   ]
  },
  {
   "cell_type": "code",
   "execution_count": 62,
   "id": "smart-foundation",
   "metadata": {},
   "outputs": [
    {
     "data": {
      "text/plain": [
       "dict_keys(['Ahmedabad', 'Amreli', 'Anand', 'Aravalli', 'Banaskantha', 'Bharuch', 'Bhavnagar', 'Botad', 'Chhota Udaipur', 'Dahod', 'Dang', 'Devbhumi Dwarka', 'Gandhinagar', 'Gir Somnath', 'Jamnagar', 'Junagadh', 'Kheda', 'Kutch', 'Mahisagar', 'Mehsana', 'Morbi', 'Narmada', 'Navsari', 'Other State', 'Panchmahal', 'Patan', 'Porbandar', 'Rajkot', 'Sabarkantha', 'Surat', 'Surendranagar', 'Tapi', 'Vadodara', 'Valsad'])"
      ]
     },
     "execution_count": 62,
     "metadata": {},
     "output_type": "execute_result"
    }
   ],
   "source": []
  },
  {
   "cell_type": "code",
   "execution_count": 78,
   "id": "elder-sullivan",
   "metadata": {},
   "outputs": [
    {
     "ename": "KeyError",
     "evalue": "'recovered'",
     "output_type": "error",
     "traceback": [
      "\u001b[0;31m---------------------------------------------------------------------------\u001b[0m",
      "\u001b[0;31mKeyError\u001b[0m                                  Traceback (most recent call last)",
      "\u001b[0;32m<ipython-input-78-e634fbf21d73>\u001b[0m in \u001b[0;36m<module>\u001b[0;34m\u001b[0m\n\u001b[0;32m----> 1\u001b[0;31m \u001b[0mcovid_parameters\u001b[0m\u001b[0;34m(\u001b[0m\u001b[0;34m'GJ'\u001b[0m\u001b[0;34m,\u001b[0m \u001b[0;34m'Valsad'\u001b[0m\u001b[0;34m)\u001b[0m\u001b[0;34m\u001b[0m\u001b[0;34m\u001b[0m\u001b[0m\n\u001b[0m",
      "\u001b[0;32m<ipython-input-64-4a723c3e4072>\u001b[0m in \u001b[0;36mcovid_parameters\u001b[0;34m(state, city)\u001b[0m\n\u001b[1;32m      5\u001b[0m     \u001b[0mpopulation\u001b[0m \u001b[0;34m=\u001b[0m \u001b[0mtemp\u001b[0m\u001b[0;34m[\u001b[0m\u001b[0;34m'meta'\u001b[0m\u001b[0;34m]\u001b[0m\u001b[0;34m[\u001b[0m\u001b[0;34m'population'\u001b[0m\u001b[0;34m]\u001b[0m\u001b[0;34m\u001b[0m\u001b[0;34m\u001b[0m\u001b[0m\n\u001b[1;32m      6\u001b[0m     \u001b[0mdaily_cases\u001b[0m \u001b[0;34m=\u001b[0m \u001b[0mtemp\u001b[0m\u001b[0;34m[\u001b[0m\u001b[0;34m'delta'\u001b[0m\u001b[0;34m]\u001b[0m\u001b[0;34m[\u001b[0m\u001b[0;34m'confirmed'\u001b[0m\u001b[0;34m]\u001b[0m\u001b[0;34m\u001b[0m\u001b[0;34m\u001b[0m\u001b[0m\n\u001b[0;32m----> 7\u001b[0;31m     \u001b[0mdaily_recovered\u001b[0m \u001b[0;34m=\u001b[0m \u001b[0mtemp\u001b[0m\u001b[0;34m[\u001b[0m\u001b[0;34m'delta'\u001b[0m\u001b[0;34m]\u001b[0m\u001b[0;34m[\u001b[0m\u001b[0;34m'recovered'\u001b[0m\u001b[0;34m]\u001b[0m\u001b[0;34m\u001b[0m\u001b[0;34m\u001b[0m\u001b[0m\n\u001b[0m\u001b[1;32m      8\u001b[0m \u001b[0;34m\u001b[0m\u001b[0m\n\u001b[1;32m      9\u001b[0m     results = {\n",
      "\u001b[0;31mKeyError\u001b[0m: 'recovered'"
     ]
    }
   ],
   "source": [
    "# covid_parameters('GJ', 'Valsad')"
   ]
  },
  {
   "cell_type": "code",
   "execution_count": null,
   "id": "excellent-blade",
   "metadata": {},
   "outputs": [],
   "source": []
  }
 ],
 "metadata": {
  "kernelspec": {
   "display_name": "Python 3",
   "language": "python",
   "name": "python3"
  },
  "language_info": {
   "codemirror_mode": {
    "name": "ipython",
    "version": 3
   },
   "file_extension": ".py",
   "mimetype": "text/x-python",
   "name": "python",
   "nbconvert_exporter": "python",
   "pygments_lexer": "ipython3",
   "version": "3.8.5"
  }
 },
 "nbformat": 4,
 "nbformat_minor": 5
}
